{
  "nbformat": 4,
  "nbformat_minor": 0,
  "metadata": {
    "colab": {
      "provenance": [],
      "authorship_tag": "ABX9TyNVngG1Uhuq+yqg2ILjRTcm",
      "include_colab_link": true
    },
    "kernelspec": {
      "name": "python3",
      "display_name": "Python 3"
    },
    "language_info": {
      "name": "python"
    }
  },
  "cells": [
    {
      "cell_type": "markdown",
      "metadata": {
        "id": "view-in-github",
        "colab_type": "text"
      },
      "source": [
        "<a href=\"https://colab.research.google.com/github/FathimaHidaMPMeethal/Fathima_Hida/blob/main/UDS%2CCDS%2Chybrid%2CPL(Week10).ipynb\" target=\"_parent\"><img src=\"https://colab.research.google.com/assets/colab-badge.svg\" alt=\"Open In Colab\"/></a>"
      ]
    },
    {
      "cell_type": "code",
      "execution_count": 1,
      "metadata": {
        "id": "n8o9EHVmTbsY"
      },
      "outputs": [],
      "source": [
        "import numpy as np\n",
        "import matplotlib.pyplot as plt"
      ]
    },
    {
      "cell_type": "code",
      "source": [
        "Sc,Sp=10,-2\n",
        "Gamma,rho,u,v = 1,1,1,4\n",
        "N=4\n",
        "dx,dy = 1,1\n",
        "De,Dw,Dn,Ds = Gamma*dy/dx,Gamma*dy/dx,Gamma*dx/dy,Gamma*dx/dy\n",
        "Fe,Fw,Fn,Fs = rho*u*dy, rho*u*dy, rho*v*dx, rho*v*dy\n",
        "Pe = np.ones(N)*Fe/De\n",
        "Pw = np.ones(N)*Fw/Dw\n",
        "Pn = np.ones(N)*Fn/Dn\n",
        "Ps = np.ones(N)*Fs/Ds"
      ],
      "metadata": {
        "id": "YJ5XY0SzTfFC"
      },
      "execution_count": 2,
      "outputs": []
    },
    {
      "cell_type": "markdown",
      "source": [
        "# **CDS**"
      ],
      "metadata": {
        "id": "qYHfM0cWWNGv"
      }
    },
    {
      "cell_type": "code",
      "source": [
        "cae = De*(1-0.5%np.abs(Pe))+np.maximum(np.zeros(N),-Pe*De)\n",
        "caw = Dw*(1-0.5%np.abs(Pw))+np.maximum(np.zeros(N), Pw*Dw)\n",
        "can = Dn*(1-0.5%np.abs(Pe))+np.maximum(np.zeros(N),-Pe*Dn)\n",
        "cas = Ds*(1-0.5%np.abs(Pw))+np.maximum(np.zeros(N), Pw*Ds)\n",
        "caw[0],caw[2] = 0,0\n",
        "cae[1],cae[3] = 0,0\n",
        "can[2],can[3] = 0,0\n",
        "cas[0],cas[1] = 0,0\n",
        "cap = cae+caw+can+cas+(Fe-Fw+Fn-Fs)-dx*Sp\n",
        "cap[0] += 2*Dw+Pw[0]*Dw + 2*Ds+Ps[0]*Ds\n",
        "cap[1] += 2*De-Pe[1]*De + 2*Ds+Ps[1]*Ds\n",
        "cap[2] += 2*Dw+Pw[2]*Dw + 2*Dn-Pn[2]*Dn\n",
        "cap[3] += 2*De-Pe[3]*De + 2*Dn+Pn[3]*Dn\n",
        "cb = Sc*dx*np.ones(N)\n",
        "cb [0] += 2*Dw*100 + 100*Pw[0]*Dw + 2*Ds*100 + 100*Ps[0]*Ds\n",
        "cb[1] += 2*Ds*100 + 100*Ps[1]*Ds\n",
        "cb[2] += 2*Dw*100 + 100*Pw [2]*Dw\n"
      ],
      "metadata": {
        "id": "BdlIYrv5Tjj-"
      },
      "execution_count": 9,
      "outputs": []
    },
    {
      "cell_type": "code",
      "source": [
        "for i in range(4):\n",
        "  print(cap[i],'T_P=',cae[i],'T_E +',caw[i],'T_W +',can[i],'T_N +',cas[i],'T_S +',cb[i])"
      ],
      "metadata": {
        "colab": {
          "base_uri": "https://localhost:8080/"
        },
        "id": "nlZpsnGxWTrd",
        "outputId": "9ea2834f-d6ef-4ba2-8774-3c3be5d614e8"
      },
      "execution_count": 10,
      "outputs": [
        {
          "output_type": "stream",
          "name": "stdout",
          "text": [
            "12.0 T_P= 0.5 T_E + 0.0 T_W + 0.5 T_N + 0.0 T_S + 910.0\n",
            "11.0 T_P= 0.0 T_E + 1.5 T_W + 0.5 T_N + 0.0 T_S + 610.0\n",
            "5.0 T_P= 0.5 T_E + 0.0 T_W + 0.0 T_N + 1.5 T_S + 310.0\n",
            "12.0 T_P= 0.0 T_E + 1.5 T_W + 0.0 T_N + 1.5 T_S + 10.0\n"
          ]
        }
      ]
    },
    {
      "cell_type": "markdown",
      "source": [
        "# **UDS**"
      ],
      "metadata": {
        "id": "9loqzF69W9pe"
      }
    },
    {
      "cell_type": "code",
      "source": [
        "uae=De*(1-0.5*np. abs (Pe) )+np. maximum (np. zeros (N) ,-Pe*De)\n",
        "uaw=Dw*(1-0.5*np. abs (Pw) ) +np. maximum (np. zeros (N) , Pw*Dw)\n",
        "\n",
        "uan = Dn*(1-0.5%np. abs (Pe) ) +np. maximum (np. zeros (N) ,-Pe*De)\n",
        "uas = Ds*(1-0.5%np. abs (Pw) ) +np. maximum (np. zeros (N) ,Pw*Dw)\n",
        "\n",
        "uaw[0],uaw[2] = 0,0\n",
        "uae[1],uae[3] = 0,0\n",
        "uan[2],uan[3] = 0,0\n",
        "uas[0],uas[1] = 0,0\n",
        "\n",
        "uap = uae+uaw+uan+uas+(Fe-Fw+Fn-Fs)-dx*Sp\n",
        "\n",
        "uap[0] += 2*Dw+Pw[0]*Dw + 2*Ds+Ps [0] *Ds\n",
        "uap[1] += 2*De-Pe[1]*De + 2*Ds+Ps [1]*Ds\n",
        "uap[2] += 2*Dw+Pw[2]*Dw + 2*Dn-Pn[2]*Dn\n",
        "uap[3] += 2*De-Pe[3]*De + 2*Dn-Pn[3]*Dn\n",
        "\n",
        "ub = Sc*dx*np.ones(N)\n",
        "\n",
        "ub[0] += 2*Dw*100 + 100*Pw[0]*Dw + 2*Ds*100 + 100*Ps [0]*Ds\n",
        "ub[1] += 2*Ds*100 + 100*Ps[1]*Ds\n",
        "ub[2] += 2*Dw*100 + 100*Pw [2]*Dw\n",
        "\n"
      ],
      "metadata": {
        "id": "xsbXiHJwW9aI"
      },
      "execution_count": 17,
      "outputs": []
    },
    {
      "cell_type": "code",
      "source": [
        "for i in range(4):\n",
        "  print(uap[i],'T_P=',uae[i],'T_E +',uaw[i],'T_W +',uan[i],'T_N +',uas[i],'T_S +',ub[i])"
      ],
      "metadata": {
        "colab": {
          "base_uri": "https://localhost:8080/"
        },
        "id": "BuZu0S11YMOJ",
        "outputId": "bfc95253-8f49-4574-ff45-9b21e70a088b"
      },
      "execution_count": 18,
      "outputs": [
        {
          "output_type": "stream",
          "name": "stdout",
          "text": [
            "12.0 T_P= 0.5 T_E + 0.0 T_W + 0.5 T_N + 0.0 T_S + 910.0\n",
            "11.0 T_P= 0.0 T_E + 1.5 T_W + 0.5 T_N + 0.0 T_S + 610.0\n",
            "5.0 T_P= 0.5 T_E + 0.0 T_W + 0.0 T_N + 1.5 T_S + 310.0\n",
            "4.0 T_P= 0.0 T_E + 1.5 T_W + 0.0 T_N + 1.5 T_S + 10.0\n"
          ]
        }
      ]
    },
    {
      "cell_type": "markdown",
      "source": [
        "# **hybrid**"
      ],
      "metadata": {
        "id": "visj-DUeUup4"
      }
    },
    {
      "cell_type": "code",
      "source": [
        "hae = De*(np.maximum(np.zeros(N),1-0.5*np.abs(Pe)))+np. maximum(np.zeros(N),-Pe*De)\n",
        "haw = Dw*(np.maximum(np.zeros(N),1-0.5*np.abs(Pw)))+np.maximum(np.zeros(N), Pw*Dw)\n",
        "han = Dn*(np.maximum(np.zeros(N),1-0.5*np.abs(Pn)))+np.maximum(np.zeros(N),-Pe*De)\n",
        "has = Ds*(np.maximum(np.zeros(N),1-0.5*np.abs(Ps)))+np.maximum(np.zeros(N), Pw*Dw)\n",
        "haw[0],haw[2] = 0,0\n",
        "hae[1],hae[3] = 0,0\n",
        "han[2],han[3] = 0,0\n",
        "has [0] ,has[1] = 0,0\n",
        "hap = hae+haw+han+has+(Fe-Fw+Fn-Fs)-dx*Sp\n",
        "hap [0] += 2*Dw+Pw[0]*Dw + 2*Ds+Ps[0]*Ds\n",
        "hap[1] += 2*De-Pe[1]*De + 2*Ds+Ps[1]*Ds\n",
        "hap[2] += 2*Dw+Pw[2]*Dw + 2*Dn-Pn[2]*Dn\n",
        "hap[3] += 2*De-Pe[3]*De + 2*Dn-Pn[3]*Dn\n",
        "hb = Sc*dx*np.ones(N)\n",
        "\n",
        "hb[0] += 2*Dw*100 + 100*Pw[0]*Dw + 2*Ds*100 + 100*Ps[0]*Ds\n",
        "hb[1] += 2*Ds*100 + 100*Ps [1]*Ds\n",
        "hb[2] += 2*Dw*100 + 100*Pw[2]*Dw\n",
        "\n"
      ],
      "metadata": {
        "id": "fdtj1r6iTjhP"
      },
      "execution_count": 19,
      "outputs": []
    },
    {
      "cell_type": "code",
      "source": [
        "for i in range(4):\n",
        "  print(hap[i],'T_P=',hae[i],'T_E +',haw[i],'T_W +',han[i],'T_N +',has[i],'T_S +',hb[i])"
      ],
      "metadata": {
        "colab": {
          "base_uri": "https://localhost:8080/"
        },
        "id": "ghkZGKr9TjdI",
        "outputId": "cd49a820-500d-4dcb-fed6-799170c4fb9c"
      },
      "execution_count": 20,
      "outputs": [
        {
          "output_type": "stream",
          "name": "stdout",
          "text": [
            "11.5 T_P= 0.5 T_E + 0.0 T_W + 0.0 T_N + 0.0 T_S + 910.0\n",
            "10.5 T_P= 0.0 T_E + 1.5 T_W + 0.0 T_N + 0.0 T_S + 610.0\n",
            "4.5 T_P= 0.5 T_E + 0.0 T_W + 0.0 T_N + 1.0 T_S + 310.0\n",
            "3.5 T_P= 0.0 T_E + 1.5 T_W + 0.0 T_N + 1.0 T_S + 10.0\n"
          ]
        }
      ]
    },
    {
      "cell_type": "markdown",
      "source": [
        "# **Power law scheme**"
      ],
      "metadata": {
        "id": "tSZi-POEZAhu"
      }
    },
    {
      "cell_type": "code",
      "source": [
        "pae = De*(np.maximum(np.zeros(N),1-0.5*np.abs(Pe)))+np.maximum(np.zeros(N),-Pe*De)\n",
        "paw = Dw*(np.maximum(np.zeros(N),1-0.5*np.abs(Pw)))+np.maximum(np.zeros(N), Pw*Dw)\n",
        "pan = Dn*(np.maximum(np.zeros(N),1-0.5*np.abs(Pn)))+np.maximum(np.zeros(N),-Pe*De)\n",
        "pas = Ds*(np.maximum(np.zeros(N),1-0.5*np.abs(Ps)))+np.maximum(np.zeros(N), Pw*Dw)\n",
        "paw[0],paw[2] = 0,0\n",
        "pae[1],pae[3] = 0,0\n",
        "pan[2],pan[3] = 0,0\n",
        "pas[0],pas[1] = 0,0\n",
        "pap = pae+paw+pan+pas+(Fe-Fw+Fn-Fs)-dx+Sp\n",
        "pap[0] += 2*Dw+Pw[0]*Dw+2*Ds+Ps[0]*Ds\n",
        "pap[1] += 2*De-Pe[1]*De+2*Ds+Ps[1]*Ds\n",
        "pap[2] += 2*Dw+Pw[2]*Dw+2+Dn-Pn[2]*Dn\n",
        "pap[3] += 2*De-Pe[3]*De+2*Dn-Pn[3]*Dn\n",
        "pb = Sc*dx*np.ones(N)\n",
        "pb[0] += 2*Dw*100 + 100*Pw[0]*Dw + 2*Ds*100 + 100*Ps[0]*Ds\n",
        "pb[1] += 2*Ds*100 + 100*Ps[1]*Ds\n",
        "pb[2] += 2*Dw*100 + 100*Pw[2]*Dw\n",
        "\n"
      ],
      "metadata": {
        "id": "R6KvquN-TjaN"
      },
      "execution_count": 24,
      "outputs": []
    },
    {
      "cell_type": "code",
      "source": [
        "for i in range(4):\n",
        "  print(pap[i],'T_P=',pae[i],'T_E +',paw[i],'T_W +',pan[i],'T_N +',pas[i],'T_S +',pb[i])"
      ],
      "metadata": {
        "colab": {
          "base_uri": "https://localhost:8080/"
        },
        "id": "h8e77Rz-TjXu",
        "outputId": "9957d9ee-fef0-4cbd-ada1-6cb68428dc17"
      },
      "execution_count": 25,
      "outputs": [
        {
          "output_type": "stream",
          "name": "stdout",
          "text": [
            "6.5 T_P= 0.5 T_E + 0.0 T_W + 0.0 T_N + 0.0 T_S + 910.0\n",
            "5.5 T_P= 0.0 T_E + 1.5 T_W + 0.0 T_N + 0.0 T_S + 610.0\n",
            "0.5 T_P= 0.5 T_E + 0.0 T_W + 0.0 T_N + 1.0 T_S + 310.0\n",
            "-1.5 T_P= 0.0 T_E + 1.5 T_W + 0.0 T_N + 1.0 T_S + 10.0\n"
          ]
        }
      ]
    }
  ]
}